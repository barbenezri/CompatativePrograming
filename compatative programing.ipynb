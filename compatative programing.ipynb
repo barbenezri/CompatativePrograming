{
 "cells": [
  {
   "cell_type": "markdown",
   "metadata": {},
   "source": [
    "# #1 Blackgate Penitentiary - 100/100"
   ]
  },
  {
   "cell_type": "code",
   "execution_count": null,
   "metadata": {
    "ExecuteTime": {
     "end_time": "2021-07-15T12:06:04.022876Z",
     "start_time": "2021-07-15T12:05:49.643401Z"
    }
   },
   "outputs": [],
   "source": [
    "from collections import defaultdict\n",
    "N = int(input())\n",
    "\n",
    "#create dictionary where key is hight and value is names list\n",
    "d = defaultdict(list)\n",
    "for i in range(N):\n",
    "    s,h = input().split()\n",
    "    d[h].append(s)\n",
    "    \n",
    "#sort the dic by high\n",
    "res = sorted(d.items())\n",
    "start,end = 1,0\n",
    "\n",
    "#print the name in alphbetical order\n",
    "for i in range(len(res)):\n",
    "    size = len(res[i][1])\n",
    "    print(' '.join(sorted(res[i][1])), start, end+size)\n",
    "    start += size\n",
    "    end += size"
   ]
  },
  {
   "cell_type": "markdown",
   "metadata": {},
   "source": [
    "# #2 Fibonaci - 100/100"
   ]
  },
  {
   "cell_type": "code",
   "execution_count": null,
   "metadata": {
    "ExecuteTime": {
     "end_time": "2021-07-06T15:31:54.948169Z",
     "start_time": "2021-07-06T15:31:52.400527Z"
    }
   },
   "outputs": [],
   "source": [
    "#credit for Yuval Meir\n",
    "#every 60 number the LSN in the Fibo sequence is repete\n",
    "#https://www.goldennumber.net/fibonacci-60-repeating-pattern/\n",
    "lis = [1, 1, 2, 3, 5, 8, 3, 1, 4, 5, 9, 4, 3, 7, 0, 7, 7, 4, 1, 5, 6, 1, 7, 8, 5, 3, 8, 1, 9, 0, 9, 9, 8, 7, 5, 2, 7, 9, 6, 5, 1, 6, 7, 3, 0, 3, 3, 6, 9, 5, 4, 9, 3, 2, 5, 7, 2, 9, 1, 0]\n",
    "N = int(input())\n",
    "for _ in range(N):\n",
    "    n = int(input())\n",
    "    print (lis[n%60]) "
   ]
  },
  {
   "cell_type": "markdown",
   "metadata": {},
   "source": [
    "# #3 Mosaic Decoration I - 100/100"
   ]
  },
  {
   "cell_type": "code",
   "execution_count": null,
   "metadata": {
    "ExecuteTime": {
     "end_time": "2021-07-01T18:30:52.595761Z",
     "start_time": "2021-07-01T18:30:40.556417Z"
    }
   },
   "outputs": [],
   "source": [
    "from math import ceil\n",
    "N, Cb, Cp = [int(n) for n in input().split()]\n",
    "B_total, P_total = 0,0\n",
    "\n",
    "#sum how many Black and Pink mosaic are needed\n",
    "for i in range(N):\n",
    "    Bi, Pi = [int(n) for n in input().split()]\n",
    "    B_total+=Bi\n",
    "    P_total+=Pi\n",
    "    \n",
    "#ceil because we cant buy half pile so round up\n",
    "#multiple by cost of each pile\n",
    "print(ceil(B_total/10)*Cb+ceil(P_total/10)*Cp)"
   ]
  },
  {
   "cell_type": "markdown",
   "metadata": {},
   "source": [
    "# #4 Mosaic Decoration II - 100/100"
   ]
  },
  {
   "cell_type": "code",
   "execution_count": null,
   "metadata": {
    "ExecuteTime": {
     "end_time": "2021-07-02T08:04:13.976521Z",
     "start_time": "2021-07-02T08:04:12.557384Z"
    }
   },
   "outputs": [],
   "source": [
    "from math import ceil\n",
    "W, H, A, B, M, C = [int(n) for n in input().split()]\n",
    "\n",
    "#calc the cost of all the piles\n",
    "tile_cost = ceil((ceil(W/A)*ceil(H/B))/10)*M\n",
    "\n",
    "#calc if there is need for cutting the mosaic tiles\n",
    "cut_cost = 0 if((W/A).is_integer()) else H\n",
    "cut_cost += 0 if((H/B).is_integer()) else W\n",
    " \n",
    "print(tile_cost+cut_cost*C)"
   ]
  },
  {
   "cell_type": "markdown",
   "metadata": {},
   "source": [
    "# #5 Vangelis the Batbear and the Bubbles challenge - 100/100"
   ]
  },
  {
   "cell_type": "code",
   "execution_count": null,
   "metadata": {
    "ExecuteTime": {
     "end_time": "2021-07-06T16:23:50.006691Z",
     "start_time": "2021-07-06T16:23:44.294254Z"
    }
   },
   "outputs": [],
   "source": [
    "# credit for GFG\n",
    "# https://www.geeksforgeeks.org/detect-cycle-undirected-graph/\n",
    "from collections import deque\n",
    "\n",
    "def find_cycle(graph):\n",
    "    \n",
    "#run over the Vertices\n",
    "    for i in range(len(graph)):\n",
    "        \n",
    "#check for self loop\n",
    "        if i in graph[i]:   \n",
    "            return 1\n",
    "        \n",
    "#check for multiple adges\n",
    "        if len(graph[i]) != len(set(graph[i])):   \n",
    "            return 1\n",
    "        \n",
    "#run a DFS from every node who in unvisited      \n",
    "    visited = [False]*len(graph)\n",
    "    for i in range(len(graph)):\n",
    "        if visited[i]==False:\n",
    "            if DFS(graph, i, visited, None) :\n",
    "                return 1\n",
    "    return 0\n",
    "\n",
    "def DFS(graph, node, visited, parent):\n",
    "    visited[node]=True\n",
    "    for i in graph[node]:\n",
    "        if visited[i] == False:\n",
    "            if DFS(graph, i, visited, node):\n",
    "                return True\n",
    "            \n",
    "#if you find edge that the parent isnt the node parent ->there is cycle\n",
    "        elif parent!=i:\n",
    "            return True\n",
    "    return False\n",
    "\n",
    "N = int(input())\n",
    "for _ in range(N):\n",
    "    flag = 0\n",
    "    V,E = [int(n) for n in input().split()]\n",
    "    adjlist = [[] for _ in range(V)]\n",
    "    conection = [int(n) for n in input().split()]\n",
    "    \n",
    "#if there are more edges then Vertices then there have to be cycle\n",
    "    if E>=V:\n",
    "        print('1')\n",
    "        continue\n",
    "        \n",
    "#create adjlist\n",
    "    for i in range(0,len(conection),2):  \n",
    "        adjlist[conection[i]].append(conection[i+1])\n",
    "        adjlist[conection[i+1]].append(conection[i]) \n",
    "    print(find_cycle(adjlist)) "
   ]
  },
  {
   "cell_type": "markdown",
   "metadata": {
    "ExecuteTime": {
     "end_time": "2021-07-02T11:44:20.248915Z",
     "start_time": "2021-07-02T11:44:20.244962Z"
    }
   },
   "source": [
    "# #6 Running Up Stairs - 100/100"
   ]
  },
  {
   "cell_type": "code",
   "execution_count": null,
   "metadata": {
    "ExecuteTime": {
     "end_time": "2021-07-02T12:28:28.329440Z",
     "start_time": "2021-07-02T12:28:27.139968Z"
    }
   },
   "outputs": [],
   "source": [
    "N = int(input())\n",
    "for _ in range(N):\n",
    "    stairs = int(input())\n",
    "    total = [0 for _ in range(stairs+1)]\n",
    "#set base case\n",
    "    total[0]=1\n",
    "    total[1]=1\n",
    "    for step in range(2,stairs+1):\n",
    "#for evey stair you can reach by its previous or second previous\n",
    "        total[step] = total[step-1]+total[step-2]\n",
    "#print the possible case for the last stair\n",
    "    print(total[stairs])"
   ]
  },
  {
   "cell_type": "markdown",
   "metadata": {},
   "source": [
    "# #7 Hotel Wiring - 100/100"
   ]
  },
  {
   "cell_type": "code",
   "execution_count": null,
   "metadata": {
    "ExecuteTime": {
     "end_time": "2021-07-06T16:55:20.751912Z",
     "start_time": "2021-07-06T16:55:10.272844Z"
    }
   },
   "outputs": [],
   "source": [
    "from heapq import heapify, heappush, heappop\n",
    "\n",
    "T = int(input())\n",
    "for _ in range(T):\n",
    "    heap = []\n",
    "#create a heap\n",
    "    heapify(heap)\n",
    "    floors, rooms, switch_Off =[int(n) for n in input().split()]\n",
    "#push all the working room to min heap\n",
    "    for i in range(floors):\n",
    "        temp = int(input())\n",
    "        heappush(heap, temp)\n",
    "\n",
    "#pop the K smallest element to list\n",
    "    turn_off = []\n",
    "    for j in range(switch_Off):\n",
    "        turn_off.append(heappop(heap))\n",
    "        \n",
    "#add them back with change   \n",
    "    for k in turn_off:\n",
    "        heappush(heap, rooms-k)\n",
    "    \n",
    "    print(sum(heap))        "
   ]
  },
  {
   "cell_type": "markdown",
   "metadata": {},
   "source": [
    "\n",
    "# #8 Bear Sums - 100/100"
   ]
  },
  {
   "cell_type": "code",
   "execution_count": null,
   "metadata": {
    "ExecuteTime": {
     "end_time": "2021-07-06T20:21:52.436167Z",
     "start_time": "2021-07-06T20:20:45.444500Z"
    }
   },
   "outputs": [],
   "source": [
    "def find_pair(L, Sum):\n",
    "    dic = {}\n",
    "    for i in L:\n",
    "#if the required element needed isn't in the dic, then add the current element\n",
    "        if (Sum-i) in dic:\n",
    "            print(min(i,Sum-i),max(i,Sum-i))\n",
    "            return\n",
    "        dic[i]=i\n",
    "    print('!OK')\n",
    "    return\n",
    "\n",
    "T = int(input())\n",
    "for _ in range(T):\n",
    "    Sum, Elements = [int(n) for n in input().split()] \n",
    "    L = [int(n) for n in input().split()]\n",
    "#if there is no element than then no sum can be obtain    \n",
    "    if Elements == 0:\n",
    "        print('!OK')\n",
    "        continue\n",
    "    \n",
    "    find_pair(L, Sum)"
   ]
  },
  {
   "cell_type": "markdown",
   "metadata": {},
   "source": [
    "# #9 Aeneas' cryptographic disc (4th c. B.C.) - 100/100"
   ]
  },
  {
   "cell_type": "code",
   "execution_count": null,
   "metadata": {
    "ExecuteTime": {
     "end_time": "2021-07-03T10:35:11.596571Z",
     "start_time": "2021-07-03T10:33:14.742447Z"
    }
   },
   "outputs": [],
   "source": [
    "from math import sin, radians\n",
    "\n",
    "#chord formula\n",
    "#https://owlcation.com/stem/How-to-Calculate-the-Arc-Length-of-a-Circle-Segment-and-Sector-Area\n",
    "\n",
    "def chord(radius, angle1, angle2):\n",
    "    if angle1==angle2:\n",
    "        return 0\n",
    "    return 2*radius*sin((radians(abs(angle1-angle2)))/2)\n",
    "    \n",
    "\n",
    "radius = int(input()) \n",
    "letter = dict()\n",
    "#keep all the angle in dictionary \n",
    "for _ in range(26):\n",
    "    L, V = input().split()\n",
    "    letter[L]=V\n",
    "#make surk all the letter are in upper case\n",
    "message = input().upper()\n",
    "total = radius\n",
    "#keep only the letter\n",
    "update= ''.join(l for l in message if l.isalpha())\n",
    "for x in range(len(update)-1):\n",
    "    total += chord(radius,float(letter[update[x]]), float(letter[update[x+1]]))\n",
    "print(math.ceil(total))"
   ]
  },
  {
   "cell_type": "markdown",
   "metadata": {},
   "source": [
    "# #10 BeetleBag - 100/100"
   ]
  },
  {
   "cell_type": "code",
   "execution_count": null,
   "metadata": {
    "ExecuteTime": {
     "end_time": "2021-07-07T04:32:51.990190Z",
     "start_time": "2021-07-07T04:32:31.835642Z"
    }
   },
   "outputs": [],
   "source": [
    "# credit for GFG\n",
    "# https://www.geeksforgeeks.org/0-1-knapsack-problem-dp-10/\n",
    "\n",
    "def knapsack(Capacity, Weights, Profit, Elements):\n",
    "    dp = [0 for i in range(Capacity+1)]  \n",
    "    for i in range(1, Elements+1):  \n",
    "        for w in range(Capacity, 0, -1): \n",
    "            if Weights[i-1] <= w:\n",
    "                dp[w] = max(dp[w], dp[w-Weights[i-1]]+Profit[i-1])\n",
    "    return dp[Capacity] \n",
    "    \n",
    "N = int(input())   \n",
    "for _ in range(N):\n",
    "    Weights, Profit = [], []\n",
    "    Capacity, Elements = [int(n) for n in input().split()]\n",
    "    for _ in range(Elements):\n",
    "        Wi, Pi = [int(n) for n in input().split()]\n",
    "        Weights.append(Wi)\n",
    "        Profit.append(Pi)\n",
    "    print(knapsack(Capacity, Weights, Profit, Elements))   "
   ]
  },
  {
   "cell_type": "markdown",
   "metadata": {},
   "source": [
    "# #11 Bit Soccer - 100/100"
   ]
  },
  {
   "cell_type": "code",
   "execution_count": null,
   "metadata": {
    "ExecuteTime": {
     "end_time": "2021-07-08T12:37:10.169105Z",
     "start_time": "2021-07-08T12:37:07.548608Z"
    }
   },
   "outputs": [],
   "source": [
    "def check(arr,s):\n",
    "#get out number inverse (0->1, 1->0)\n",
    "    flip_sum = ~s\n",
    "#list o number which possible for creating the Sum\n",
    "    needed = [player for player in arr if (flip_sum & player) == 0]\n",
    "    if needed == []:\n",
    "        return \"NO\"\n",
    "    else:\n",
    "        final=0\n",
    "# \"adding\" our number until we get the sum\n",
    "        for i in needed:\n",
    "            final |= i\n",
    "        if final == s:\n",
    "            return \"YES\"\n",
    "        else:\n",
    "            return \"NO\"\n",
    "    \n",
    "_ = int(input())   \n",
    "Players = [int(n) for n in input().split()]\n",
    "N = int(input())\n",
    "for _ in range(N):\n",
    "    G = int(input())\n",
    "    print(check(Players, G))\n",
    "        "
   ]
  },
  {
   "cell_type": "markdown",
   "metadata": {},
   "source": [
    "# #12 Troll Coder - 100/100"
   ]
  },
  {
   "cell_type": "code",
   "execution_count": null,
   "metadata": {
    "ExecuteTime": {
     "end_time": "2021-07-08T22:38:22.827860Z",
     "start_time": "2021-07-08T22:38:22.802256Z"
    }
   },
   "outputs": [],
   "source": [
    "import sys\n",
    "def answer(guess):\n",
    "    print(\"A\", \" \".join(guess))\n",
    "    sys.stdout.flush()\n",
    "     \n",
    "def ask(guess):\n",
    "    print(\"Q\", \" \".join(guess))\n",
    "    sys.stdout.flush()\n",
    "    return int(input())\n",
    "\n",
    "length = int(input())\n",
    "guess = [\"0\"] * length\n",
    "#initial the correct digit counter\n",
    "Correct = ask(guess)\n",
    "\n",
    "for i in range(length):\n",
    "#if the amount of correct ditits equal to the length of the string\n",
    "#then our guess is correct\n",
    "    if Correct == length:\n",
    "        answer(guess)\n",
    "        break\n",
    "    else:\n",
    "#set the current digit to 1\n",
    "        guess[i] = \"1\"\n",
    "        if i == (length - 1):\n",
    "            answer(guess)\n",
    "        else:\n",
    "#and check if the amount of correct digit has change\n",
    "            newCorrect = ask(guess)\n",
    "#if yes then continue\n",
    "            if newCorrect > Correct:\n",
    "                Correct = newCorrect\n",
    "                continue\n",
    "#else change it back to 0\n",
    "            else:\n",
    "                guess[i] = \"0\""
   ]
  },
  {
   "cell_type": "markdown",
   "metadata": {
    "ExecuteTime": {
     "end_time": "2021-07-08T13:25:08.281356Z",
     "start_time": "2021-07-08T13:25:08.275373Z"
    }
   },
   "source": [
    "# #13 Rumour - 100/100"
   ]
  },
  {
   "cell_type": "code",
   "execution_count": null,
   "metadata": {
    "ExecuteTime": {
     "end_time": "2021-07-08T15:55:13.099080Z",
     "start_time": "2021-07-08T15:55:05.958113Z"
    }
   },
   "outputs": [],
   "source": [
    "#function that return the number i the path to the root\n",
    "def p(a):\n",
    "    res = []\n",
    "    while(a):\n",
    "        res.append(a)\n",
    "        a>>=1\n",
    "    return res\n",
    "\n",
    "N = int(input())\n",
    "for _ in range(N):\n",
    "    A,B = [int(n) for n in input().split()]\n",
    "#get the paths for both nodes\n",
    "    AP=p(A)\n",
    "    BP=p(B)\n",
    "#run over both of them simultaneously\n",
    "    while(AP and BP):\n",
    "#if the last nodes in the path are equals the pop\n",
    "        if AP[-1]==BP[-1]:\n",
    "            AP.pop()\n",
    "            BP.pop()\n",
    "#else (you reach to split node) break the loop\n",
    "        else:\n",
    "            break \n",
    "#return both remainder path length\n",
    "    print(len(AP+BP))"
   ]
  },
  {
   "cell_type": "markdown",
   "metadata": {},
   "source": [
    "# #14 Minimum Permutation - 100/100"
   ]
  },
  {
   "cell_type": "code",
   "execution_count": null,
   "metadata": {
    "ExecuteTime": {
     "end_time": "2021-07-10T14:54:15.152879Z",
     "start_time": "2021-07-10T14:54:08.200269Z"
    }
   },
   "outputs": [],
   "source": [
    "N, M = [int(n) for n in input().split()]\n",
    "lis = [int(n) for n in input().split()]\n",
    "set = sorted([int(n) for n in input().split()])\n",
    "i = j = 0\n",
    "\n",
    "while(1):\n",
    "#if the list is over, print the reminder set\n",
    "    if i==N:\n",
    "        print(*set[j:])\n",
    "        break\n",
    "#if the set is over, print the reminder list\n",
    "    elif j == M:\n",
    "        print(*lis[i:])\n",
    "        break\n",
    "#if the item in the list is smaller print it\n",
    "    elif lis[i] < set[j]:\n",
    "        print(lis[i], end=' ')\n",
    "        i += 1\n",
    "#else (the item in the sorted set is smaller), print it\n",
    "    else:\n",
    "        print(set[j], end=' ')\n",
    "        j += 1"
   ]
  },
  {
   "cell_type": "markdown",
   "metadata": {},
   "source": [
    "# #15 Crafting Wooden Tables - 100/100"
   ]
  },
  {
   "cell_type": "code",
   "execution_count": null,
   "metadata": {},
   "outputs": [],
   "source": [
    "c,n,p,w = [int(n) for n in input().split()]\n",
    "#if the amount needed for one table is grater then the \"pocket\" size\n",
    "if c >= p:\n",
    "#minimun between floor(W/C) and the pocket available\n",
    "    result = min(w//c, n)\n",
    "#else (the amount needed for one table is smaller then the \"pocket\" size)\n",
    "else:\n",
    "#take in consider also the amount of free space divided by how much \n",
    "#timber will be in poket when putting there a table\n",
    "    result = min(w//c, n, (n*p-w)//(p-c))\n",
    "print(result)"
   ]
  },
  {
   "cell_type": "markdown",
   "metadata": {},
   "source": [
    "# #16 Concentration Game - 100/100"
   ]
  },
  {
   "cell_type": "code",
   "execution_count": null,
   "metadata": {
    "ExecuteTime": {
     "end_time": "2021-07-13T17:28:55.714034Z",
     "start_time": "2021-07-13T17:28:51.348666Z"
    }
   },
   "outputs": [],
   "source": [
    "import sys\n",
    "     \n",
    "def ask(x,y):\n",
    "    print(x,y)\n",
    "    sys.stdout.flush()\n",
    "    return input()\n",
    "\n",
    "N = int(input())\n",
    "seen = [i+1 for i in range(2*N)]\n",
    "#keeping all the data in dic\n",
    "dic = {}\n",
    "while(seen):\n",
    "#open the first two cards\n",
    "    x = seen.pop(0)\n",
    "    y = seen.pop(0)\n",
    "    answer = ask(x,y)\n",
    "#if its a match go on\n",
    "    if answer=='MATCH':\n",
    "        continue\n",
    "#else check the answer you got        \n",
    "    one, two = [int(n) for n in answer.split()]\n",
    "#if you already found it, search it on the dic and remove those two number\n",
    "    if one in dic:\n",
    "        z = dic[one]\n",
    "        seen.remove(z)\n",
    "        ask(x,z)\n",
    "    else:\n",
    "#if its the first time you see this card add it to the dict\n",
    "#and flip over the card (add it to the list end)\n",
    "        dic[one]=x\n",
    "        seen.append(x) \n",
    "#like previous\n",
    "    if two in dic:\n",
    "        z = dic[two]\n",
    "        seen.remove(z)\n",
    "        ask(y,z)\n",
    "    else:\n",
    "        dic[two]=y   \n",
    "        seen.append(y)   \n",
    "    \n",
    "print('-1')"
   ]
  },
  {
   "cell_type": "markdown",
   "metadata": {},
   "source": [
    "# #17 Car Spark - 100/100"
   ]
  },
  {
   "cell_type": "code",
   "execution_count": null,
   "metadata": {},
   "outputs": [],
   "source": [
    "#credit for Techie delight\n",
    "# https://www.techiedelight.com/weighted-interval-scheduling-problem/\n",
    "\n",
    "def findLastNonConflictingJob(jobs, n):\n",
    "#standart binary search\n",
    "    low = 0\n",
    "    high = n\n",
    "    while low <= high:\n",
    "        mid = (low + high) // 2\n",
    "        if jobs[mid][1] <= jobs[n][0]:\n",
    "            if jobs[mid + 1][1] <= jobs[n][0]:\n",
    "                low = mid + 1\n",
    "            else:\n",
    "                return mid\n",
    "        else:\n",
    "            high = mid - 1\n",
    "    return None\n",
    "    \n",
    "def findMaxProfit(booking):\n",
    "#sort by ending time\n",
    "    booking.sort(key=lambda x: x[1])\n",
    "    n = len(booking)\n",
    "#create an array where index x is the best option include the X event (by sort order)\n",
    "    maxProfit = [None] * n\n",
    "    maxProfit[0] = booking[0][2]\n",
    "    for i in range(1, n):\n",
    "#finding the next event thet dosn't conflict\n",
    "        index = findLastNonConflictingJob(booking, i)\n",
    "        incl = booking[i][2]\n",
    "#if you found an index add to the profits his value (the last none conflict enevt)\n",
    "        if index != None:\n",
    "            incl += maxProfit[index]\n",
    "#the value of the current call will be the max between the last call and what we got\n",
    "        maxProfit[i] = max(incl, maxProfit[i - 1])\n",
    "#return the last value\n",
    "    return maxProfit[-1]    \n",
    "    \n",
    "N = int(input())\n",
    "for _ in range(N):\n",
    "    booking = []\n",
    "    size = int(input())\n",
    "    #creat an array of tupple of all the data\n",
    "    for i in range(size):\n",
    "        S,E,M = [int(n) for n in input().split()]  \n",
    "        booking.append((S,E,M))  \n",
    "    print('Done')\n",
    "    print(findMaxProfit(booking))"
   ]
  },
  {
   "cell_type": "markdown",
   "metadata": {},
   "source": [
    "# #18  Xtreme Rappers - 100/100"
   ]
  },
  {
   "cell_type": "code",
   "execution_count": null,
   "metadata": {
    "ExecuteTime": {
     "end_time": "2021-07-11T12:23:59.884001Z",
     "start_time": "2021-07-11T12:23:56.709751Z"
    }
   },
   "outputs": [],
   "source": [
    "A,B = [int(x) for x in input().split()]\n",
    "# if A << then B then for every letter in A take two from B\n",
    "# if B << then A then for every letter in B take two from A\n",
    "# if A ~= B then take all the word divided by 3\n",
    "print(min(A,B,(A+B) // 3))"
   ]
  },
  {
   "cell_type": "markdown",
   "metadata": {},
   "source": [
    "# #19 Lemon - 100/100"
   ]
  },
  {
   "cell_type": "code",
   "execution_count": null,
   "metadata": {
    "ExecuteTime": {
     "end_time": "2021-07-11T15:50:19.520087Z",
     "start_time": "2021-07-11T15:50:17.458374Z"
    }
   },
   "outputs": [],
   "source": [
    "def solve(n,m,s):\n",
    "#if there are 2 pumps then you just need to check the second one\n",
    "    if n==2:\n",
    "#then you just need to go to the second pump (M) and check it(S)\n",
    "        return m+s\n",
    "#if there are 3 pumps\n",
    "    if n==3:\n",
    "#you need to go to the 2'nd pump(M) and check it(S) and also the 3'rd pump\n",
    "        return (m+s)*2\n",
    "#go to the middle pump (N//2) and check it (S)\n",
    "    res = (n//2)*m+s\n",
    "#keep do it until you find the break pump\n",
    "    return res + solve(n-(n//2),m,s)\n",
    "    \n",
    "N,M,S = [int(n) for n in input().split()]\n",
    "\n",
    "print(solve(N,M,S))"
   ]
  },
  {
   "cell_type": "markdown",
   "metadata": {},
   "source": [
    "# #20 Mr. Pippo's Pizza - 100/100"
   ]
  },
  {
   "cell_type": "code",
   "execution_count": null,
   "metadata": {
    "ExecuteTime": {
     "start_time": "2021-07-15T12:50:03.872Z"
    }
   },
   "outputs": [],
   "source": [
    "from math import factorial\n",
    "# by the formula for calc Polygon triangulation with a little adjustment\n",
    "# https://en.wikipedia.org/wiki/Polygon_triangulation\n",
    "def pizza(cuts):\n",
    "    for n in range(3, 1000):\n",
    "        if factorial(2 * (n - 2)) // (factorial(n - 1) * factorial(n - 2)) == cuts:\n",
    "            return n   \n",
    "while(1):\n",
    "    try:\n",
    "        N = int(input())\n",
    "        print(pizza(N))\n",
    "    except:\n",
    "        break"
   ]
  },
  {
   "cell_type": "markdown",
   "metadata": {
    "ExecuteTime": {
     "end_time": "2021-07-12T16:30:48.395397Z",
     "start_time": "2021-07-12T16:30:48.385453Z"
    }
   },
   "source": [
    "# #21 Counting Molecules - 100/100"
   ]
  },
  {
   "cell_type": "code",
   "execution_count": null,
   "metadata": {},
   "outputs": [],
   "source": [
    "c, h, o = map(int, input().split())\n",
    "\n",
    "p = -.25*h + 5*o\n",
    "w = -1*c+.25*h+.5*o\n",
    "g = c/6+h/24-o/12\n",
    "p = round(p)\n",
    "w = round(w)\n",
    "g = round(g)\n",
    "if p>=0 and w>=0 and g>=0 and c==1*p + 0*w + 6*g and h==0*p + 2*w + 12*g and o==2*p+1*w+6*g:\n",
    "    print(w,p,g)\n",
    "else:\n",
    "    print(\"Error\")"
   ]
  },
  {
   "cell_type": "markdown",
   "metadata": {},
   "source": [
    "# #22 Painter's Dilemma - 100/100"
   ]
  },
  {
   "cell_type": "code",
   "execution_count": null,
   "metadata": {},
   "outputs": [],
   "source": [
    "def process_test(colors_sequence):\n",
    "    left = right = num_switches = 0\n",
    "    \n",
    "    for i in range(len(colors_sequence)):\n",
    "#if the needed color is on one of the brushs then continue\n",
    "        if colors_sequence[i] == left or colors_sequence[i] == right:\n",
    "            continue\n",
    "        else:\n",
    "            picked = False\n",
    "#run on the reminder required colors\n",
    "            for j in colors_sequence[i+1:]:\n",
    "# if you find the color in the left brush ahead\n",
    "                if j == left:\n",
    "# change the right brush color\n",
    "                    num_switches += 1\n",
    "                    right = colors_sequence[i]\n",
    "                    picked = True\n",
    "                    break\n",
    "                elif j == right:\n",
    "# change the left brush color\n",
    "                    num_switches += 1\n",
    "                    left = colors_sequence[i]\n",
    "                    picked = True\n",
    "                    break\n",
    "                else:\n",
    "                    continue\n",
    "\n",
    "            if not picked:\n",
    "# if no color ahead is on one of my brush it dosent matter what brush you pick\n",
    "#set defualt brush as the left one\n",
    "                num_switches += 1\n",
    "                left = colors_sequence[i]\n",
    "    return num_switches\n",
    "\n",
    "N = int(input())\n",
    "for _ in range(N):\n",
    "    C = int(input())\n",
    "    colors = [int(x) for x in input().split()]\n",
    "    print(process_test(colors))"
   ]
  },
  {
   "cell_type": "markdown",
   "metadata": {
    "ExecuteTime": {
     "end_time": "2021-07-12T07:08:30.945791Z",
     "start_time": "2021-07-12T07:08:30.938772Z"
    }
   },
   "source": [
    "# #23 Flower Games - 100/100"
   ]
  },
  {
   "cell_type": "code",
   "execution_count": null,
   "metadata": {
    "ExecuteTime": {
     "end_time": "2021-07-15T13:26:50.371185Z",
     "start_time": "2021-07-15T13:26:48.602501Z"
    }
   },
   "outputs": [],
   "source": [
    "# credit for numberfile\n",
    "# https://www.youtube.com/watch?v=uCsD3ZGzMgE\n",
    "\n",
    "for _ in range(int(input())):\n",
    "    petals = int(input())\n",
    "    print(int(bin(petals)[3:]+'1',2)) "
   ]
  },
  {
   "cell_type": "markdown",
   "metadata": {},
   "source": [
    "# #24 Digit Fun! - 100/100"
   ]
  },
  {
   "cell_type": "code",
   "execution_count": null,
   "metadata": {},
   "outputs": [],
   "source": [
    "num = input()\n",
    "while num != 'END':\n",
    "    counter = 1\n",
    "    sizeOfNum = str(len(num))\n",
    "    while num != sizeOfNum:\n",
    "        num = sizeOfNum\n",
    "        sizeOfNum = str(len(num))\n",
    "        counter += 1\n",
    "    print(counter)\n",
    "    num = input()"
   ]
  },
  {
   "cell_type": "markdown",
   "metadata": {
    "ExecuteTime": {
     "end_time": "2021-07-12T07:10:24.747054Z",
     "start_time": "2021-07-12T07:10:24.739065Z"
    }
   },
   "source": [
    "# #25 Zoom In - 100/100"
   ]
  },
  {
   "cell_type": "code",
   "execution_count": null,
   "metadata": {},
   "outputs": [],
   "source": [
    "columns = int(input())\n",
    "rows = int(input())\n",
    "chars = int(input())\n",
    "# Make Matrixes\n",
    "charsDict = {}\n",
    "# Fill Matrix\n",
    "for _ in range(chars):\n",
    "    ch = input() # Get char\n",
    "    repres = [[0 for c in range(columns)] for r in range(rows)]\n",
    "    # Get matrix of representation\n",
    "    for r in range(rows):\n",
    "        line = list(input())\n",
    "        for c in range(columns):\n",
    "            repres[r][c] = line[c]\n",
    "    charsDict[ch] = repres\n",
    "words = int(input())\n",
    "for _ in range(words):\n",
    "    word = input()\n",
    "    for r in range(rows): # Row\n",
    "        for k in word: # Character in word\n",
    "            for c in range(columns): # Column\n",
    "                print(charsDict[k][r][c], end = '')\n",
    "        print()"
   ]
  },
  {
   "cell_type": "markdown",
   "metadata": {},
   "source": [
    "# #26 Shortening in the Real World - 100/100"
   ]
  },
  {
   "cell_type": "code",
   "execution_count": null,
   "metadata": {},
   "outputs": [],
   "source": [
    "def toBase(n, b):\n",
    "    if n == 0:\n",
    "        return [0]\n",
    "    d = []\n",
    "    while n:\n",
    "        d.append(int(n % b))\n",
    "        n //= b\n",
    "    return d[::-1]\n",
    "\n",
    "orgURL = input()\n",
    "N = int(input()) # iterations\n",
    "for _ in range(N):\n",
    "    baseURL = orgURL\n",
    "    targetURL = input()\n",
    "    # UTF - 8\n",
    "    baseURL = [hex(ord(c)) for c in baseURL]\n",
    "    targetURL = [hex(ord(c)) for c in targetURL]\n",
    "    # Make same length\n",
    "    baseURL *= (int(len(targetURL) / len(baseURL)) + 1)\n",
    "    baseURL = baseURL[:len(targetURL)]\n",
    "    # Decode\n",
    "    baseURL = [int(n, 16) for n in baseURL]\n",
    "    targetURL = [int(n, 16) for n in targetURL]\n",
    "    # XOR\n",
    "    xoredURL = [hex(baseURL[i] ^ targetURL[i]) for i in range(len(baseURL))]\n",
    "\n",
    "    # Cut without 0x\n",
    "    intURL = [n[2:] for n in xoredURL[-8:]]\n",
    "\n",
    "    # Padding zeros\n",
    "    for i in range(len(intURL)):\n",
    "        if len(intURL[i]) != 2:\n",
    "            intURL[i] = '0' + intURL[i]\n",
    "\n",
    "    # To int\n",
    "    intURL = int(''.join(intURL), 16)\n",
    "\n",
    "    # To base62\n",
    "    encodedURL = [chr(n + 87) if 10 <= n <= 35 else (chr(n + 29) if n > 10 else str(n)) for n in toBase(intURL, 62)]\n",
    "    encodedURL = orgURL + '/' + ''.join(encodedURL)\n",
    "\n",
    "    print(encodedURL)"
   ]
  },
  {
   "cell_type": "markdown",
   "metadata": {},
   "source": [
    "# #27 Taco Stand - 100/100"
   ]
  },
  {
   "cell_type": "code",
   "execution_count": null,
   "metadata": {},
   "outputs": [],
   "source": [
    "# Implement\n",
    "def getMaxTacos(s, m ,r ,b):\n",
    "    minValue, maxValue = min(m, r, b), max(m, r, b)\n",
    "    medValue = sum([m, r, b]) - minValue - maxValue\n",
    "    return min(s, minValue + medValue) if maxValue > minValue + medValue else min(s, int((minValue + medValue + maxValue) / 2))\n",
    "\n",
    "# Get the days amount & ingredients\n",
    "days = int(input())\n",
    "for _ in range(days):\n",
    "    s, m, r, b = [int(x) for x in input().split()]\n",
    "    print(getMaxTacos(s, m, r, b))\n"
   ]
  },
  {
   "cell_type": "markdown",
   "metadata": {
    "ExecuteTime": {
     "end_time": "2021-07-12T07:12:56.089436Z",
     "start_time": "2021-07-12T07:12:56.086482Z"
    }
   },
   "source": [
    "# #28 Magic Square - 100/100"
   ]
  },
  {
   "cell_type": "code",
   "execution_count": null,
   "metadata": {},
   "outputs": [],
   "source": [
    "N = int(input()) # matrix size\n",
    "mat = [[None for i in range(N)] for j in range(N)]\n",
    "for i in range(N):\n",
    "        mat[i] = [int(n) for n in input().split()] # fill matrix\n",
    "        \n",
    "### Calculations\n",
    "\n",
    "mainDiagonal = sum([mat[i][i] for i in range(N)])\n",
    "antiDiagonal = sum([mat[i][N - i - 1] for i in range(N)])\n",
    "notSumUpList = []\n",
    "\n",
    "if mainDiagonal != antiDiagonal:\n",
    "    notSumUpList.append(0)\n",
    "\n",
    "for i in range(N): # Handle rows\n",
    "    rowSum = 0\n",
    "    for j in range(N):\n",
    "        rowSum += mat[i][j]\n",
    "    if mainDiagonal != rowSum:\n",
    "        notSumUpList.append(i+1)\n",
    "        \n",
    "for i in range(N): # Handle columns\n",
    "    columnSum = 0\n",
    "    for j in range(N):\n",
    "        columnSum += mat[j][i]\n",
    "    if mainDiagonal != columnSum:\n",
    "        notSumUpList.append(-(i+1))\n",
    "\n",
    "lenOfList = len(notSumUpList)\n",
    "notSumUpList.sort()\n",
    "print(lenOfList)\n",
    "if lenOfList > 0:\n",
    "    for n in notSumUpList:\n",
    "        print(n)"
   ]
  },
  {
   "cell_type": "markdown",
   "metadata": {},
   "source": [
    "# #29 Dog Walking 100/100"
   ]
  },
  {
   "cell_type": "code",
   "execution_count": null,
   "metadata": {},
   "outputs": [],
   "source": [
    "iterations = int(input())\n",
    "for _ in range(iterations):\n",
    "    N, K = [int(n) for n in input().split()]\n",
    "    sizesOfDogs = []\n",
    "    for _ in range(N):\n",
    "        sizesOfDogs.append(int(input()))\n",
    "    sizesOfDogs.sort()\n",
    "    diffOfSizes = []\n",
    "    for i in range(N-1):\n",
    "        diffOfSizes.append(abs(sizesOfDogs[i] - sizesOfDogs[i+1]))\n",
    "    diffOfSizes.sort()\n",
    "    print(sum(diffOfSizes[:N - K]))"
   ]
  },
  {
   "cell_type": "markdown",
   "metadata": {},
   "source": [
    "# #30 Game of Stones - 100/100"
   ]
  },
  {
   "cell_type": "code",
   "execution_count": null,
   "metadata": {},
   "outputs": [],
   "source": [
    "T = int(input())\n",
    "for _ in range(T):\n",
    "    G = int(input())\n",
    "    piles = []\n",
    "    for _ in range(G): # Get all piles\n",
    "        _ = int(input()) # Num of piles\n",
    "        piles += input().split()\n",
    "    # Find number of turns out of piles\n",
    "    turns = sum([int(s) // 2 for s in piles])\n",
    "    print('Alice' if turns % 2 else 'Bob')"
   ]
  }
 ],
 "metadata": {
  "kernelspec": {
   "display_name": "Python 3",
   "language": "python",
   "name": "python3"
  },
  "language_info": {
   "codemirror_mode": {
    "name": "ipython",
    "version": 3
   },
   "file_extension": ".py",
   "mimetype": "text/x-python",
   "name": "python",
   "nbconvert_exporter": "python",
   "pygments_lexer": "ipython3",
   "version": "3.8.5"
  }
 },
 "nbformat": 4,
 "nbformat_minor": 4
}
